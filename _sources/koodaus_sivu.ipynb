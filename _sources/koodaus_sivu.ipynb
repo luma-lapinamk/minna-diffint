{
 "cells": [
  {
   "cell_type": "markdown",
   "id": "1f6263ff",
   "metadata": {},
   "source": [
    "# Testailusivu\n",
    "\n",
    "Tälle sivulle tulee Python-ohjelmointisoluja. Sivu täydentyy!\n",
    "\n",
    "Osoita hiirellä sivun oikean yläreunan raketti-kuvaa. Valitse Live Code. \n",
    "\n",
    "Voit muokata koodisoluja vapaasti. Koodi suoritetaan koodisolun alareunan **run**-nappulasta.\n",
    "\n",
    "## Funktion siirto\n",
    "\n",
    "Testaa, miten funktion kuvaajaa siirretään vaaka- ja pystysuunnassa."
   ]
  },
  {
   "cell_type": "code",
   "execution_count": 1,
   "id": "33aa2c3e",
   "metadata": {},
   "outputs": [
    {
     "ename": "ModuleNotFoundError",
     "evalue": "No module named 'sympy'",
     "output_type": "error",
     "traceback": [
      "\u001b[1;31m---------------------------------------------------------------------------\u001b[0m",
      "\u001b[1;31mModuleNotFoundError\u001b[0m                       Traceback (most recent call last)",
      "Input \u001b[1;32mIn [1]\u001b[0m, in \u001b[0;36m<cell line: 1>\u001b[1;34m()\u001b[0m\n\u001b[1;32m----> 1\u001b[0m \u001b[38;5;28;01mfrom\u001b[39;00m \u001b[38;5;21;01msympy\u001b[39;00m \u001b[38;5;28;01mimport\u001b[39;00m Function, Symbol\n\u001b[0;32m      2\u001b[0m \u001b[38;5;28;01mfrom\u001b[39;00m \u001b[38;5;21;01msympy\u001b[39;00m\u001b[38;5;21;01m.\u001b[39;00m\u001b[38;5;21;01mplotting\u001b[39;00m \u001b[38;5;28;01mimport\u001b[39;00m plot\n\u001b[0;32m      3\u001b[0m x \u001b[38;5;241m=\u001b[39m Symbol(\u001b[38;5;124m'\u001b[39m\u001b[38;5;124mx\u001b[39m\u001b[38;5;124m'\u001b[39m)\n",
      "\u001b[1;31mModuleNotFoundError\u001b[0m: No module named 'sympy'"
     ]
    }
   ],
   "source": [
    "from sympy import Function, Symbol\n",
    "from sympy.plotting import plot\n",
    "x = Symbol('x')\n",
    "\n",
    "# Mitä funktiota siirretään?\n",
    "f = 4*x**2+2\n",
    "\n",
    "# Kuinka paljon siirretään vaakasuunnassa?\n",
    "a = 3\n",
    "\n",
    "# Kuinka paljon siirretään pystysuunnassa?\n",
    "b = 4\n",
    "\n",
    "# Siirretty funktio: korvataan x luvulla x+a, ja lisätään b\n",
    "g=f.subs(x,x+a)+b\n",
    "\n",
    "# Komennot xlim ja ylim  säätävät piirtoalueen rajoja, voit muokata niitä\n",
    "# Komennot voi myös poistaa, tällöin piirtoalue skaalautuu automaattisesti\n",
    "x1, x2 = -5, 5\n",
    "y1, y2 = 0, 10\n",
    "\n",
    "# Komento p1.extend(p2) yhdistää kuvaajat ja komento p1.show() näyttää ne samassa kuvassa\n",
    "# Komento show=False aiheuttaa sen, että ei tule kahta erillistä kuvaa\n",
    "p1=plot(f, xlim=(x1, x2), ylim=(y1, y2), show=False)\n",
    "p2=plot(g, xlim=(x1, x2), ylim=(y1, y2), show=False, line_color=\"g\")\n",
    "p1.extend(p2)\n",
    "p1.show()\n"
   ]
  },
  {
   "cell_type": "markdown",
   "id": "33a52e6c",
   "metadata": {},
   "source": [
    "## Raja-arvot\n",
    "\n",
    "Tällä työkalulla voit laskea funktioiden raja-arvoja ja tarkastella funktion kuvaajaa."
   ]
  },
  {
   "cell_type": "code",
   "execution_count": null,
   "id": "9c4e8df2",
   "metadata": {},
   "outputs": [],
   "source": [
    "import sympy\n",
    "x = sympy.Symbol('x')\n",
    "\n",
    "# Minkä funktion raja-arvoa lasketaan?\n",
    "f = x/(x-3)\n",
    "\n",
    "# Missä pisteessä raja-arvo lasketaan?\n",
    "# Huom! Ääretön merkitään 'oo' (lainausmerkit oltava mukana)\n",
    "x0 = 3\n",
    "\n",
    "# Raja-arvon laskeminen\n",
    "raja_arvo=sympy.limit(f,x,x0)\n",
    "print(\"Funktion\", f, \"raja-arvo pisteessä\", x0, \"on\", raja_arvo)\n",
    "\n",
    "# Komennot xlim ja ylim  säätävät piirtoalueen rajoja, voit muokata niitä\n",
    "x1, x2 = 1, 5\n",
    "p1=sympy.plotting.plot(f, xlim=(x1, x2),show=True)\n",
    "\n"
   ]
  }
 ],
 "metadata": {
  "jupytext": {
   "formats": "md:myst",
   "text_representation": {
    "extension": ".md",
    "format_name": "myst"
   }
  },
  "kernelspec": {
   "display_name": "Python 3",
   "language": "python",
   "name": "python3"
  },
  "language_info": {
   "codemirror_mode": {
    "name": "ipython",
    "version": 3
   },
   "file_extension": ".py",
   "mimetype": "text/x-python",
   "name": "python",
   "nbconvert_exporter": "python",
   "pygments_lexer": "ipython3",
   "version": "3.9.12"
  },
  "source_map": [
   12,
   26,
   56,
   62
  ]
 },
 "nbformat": 4,
 "nbformat_minor": 5
}